{
 "cells": [
  {
   "cell_type": "code",
   "execution_count": 1,
   "metadata": {},
   "outputs": [],
   "source": [
    "import pandas as pd\n",
    "import numpy as np\n",
    "\n",
    "df_energy = pd.read_csv(\"Usecase1_Dataset.csv\")"
   ]
  },
  {
   "cell_type": "code",
   "execution_count": 2,
   "metadata": {},
   "outputs": [
    {
     "data": {
      "text/plain": [
       "11746"
      ]
     },
     "execution_count": 2,
     "metadata": {},
     "output_type": "execute_result"
    }
   ],
   "source": [
    "len(df_energy)"
   ]
  },
  {
   "cell_type": "code",
   "execution_count": 3,
   "metadata": {},
   "outputs": [
    {
     "data": {
      "text/plain": [
       "0.7986548612293547"
      ]
     },
     "execution_count": 3,
     "metadata": {},
     "output_type": "execute_result"
    }
   ],
   "source": [
    "len(df_energy.dropna())/len(df_energy)\n",
    "#as nulls are almost 80 perc of whole data points hence can't be dropped"
   ]
  },
  {
   "cell_type": "code",
   "execution_count": 4,
   "metadata": {},
   "outputs": [
    {
     "data": {
      "text/plain": [
       "9381"
      ]
     },
     "execution_count": 4,
     "metadata": {},
     "output_type": "execute_result"
    }
   ],
   "source": [
    "len(df_energy.dropna())"
   ]
  },
  {
   "cell_type": "code",
   "execution_count": 5,
   "metadata": {},
   "outputs": [],
   "source": [
    "#I am choosing only those data points for which energy star score is available as \n",
    "# assuming or filling them might change data distributions\n",
    "df_energy = df_energy[df_energy[\"ENERGY STAR Score\"] != \"Not Available\"].reset_index().drop([\"index\",\"Order\"],axis=1)"
   ]
  },
  {
   "cell_type": "code",
   "execution_count": 6,
   "metadata": {},
   "outputs": [
    {
     "name": "stdout",
     "output_type": "stream",
     "text": [
      "<class 'pandas.core.frame.DataFrame'>\n",
      "RangeIndex: 9642 entries, 0 to 9641\n",
      "Data columns (total 59 columns):\n",
      " #   Column                                                      Non-Null Count  Dtype  \n",
      "---  ------                                                      --------------  -----  \n",
      " 0   Property Id                                                 9642 non-null   int64  \n",
      " 1   Property Name                                               9642 non-null   object \n",
      " 2   Parent Property Id                                          9642 non-null   object \n",
      " 3   Parent Property Name                                        9642 non-null   object \n",
      " 4   BBL - 10 digits                                             9640 non-null   object \n",
      " 5   NYC Borough, Block and Lot (BBL) self-reported              9640 non-null   object \n",
      " 6   NYC Building Identification Number (BIN)                    9510 non-null   object \n",
      " 7   Address 1 (self-reported)                                   9642 non-null   object \n",
      " 8   Address 2                                                   153 non-null    object \n",
      " 9   Postal Code                                                 9642 non-null   object \n",
      " 10  Street Number                                               9574 non-null   object \n",
      " 11  Street Name                                                 9576 non-null   object \n",
      " 12  Borough                                                     9579 non-null   object \n",
      " 13  DOF Gross Floor Area                                        9579 non-null   float64\n",
      " 14  Primary Property Type - Self Selected                       9642 non-null   object \n",
      " 15  List of All Property Use Types at Property                  9642 non-null   object \n",
      " 16  Largest Property Use Type                                   9642 non-null   object \n",
      " 17  Largest Property Use Type - Gross Floor Area (ft²)          9642 non-null   object \n",
      " 18  2nd Largest Property Use Type                               2379 non-null   object \n",
      " 19  2nd Largest Property Use - Gross Floor Area (ft²)           2379 non-null   object \n",
      " 20  3rd Largest Property Use Type                               774 non-null    object \n",
      " 21  3rd Largest Property Use Type - Gross Floor Area (ft²)      774 non-null    object \n",
      " 22  Year Built                                                  9642 non-null   int64  \n",
      " 23  Number of Buildings - Self-reported                         9642 non-null   int64  \n",
      " 24  Occupancy                                                   9642 non-null   int64  \n",
      " 25  Metered Areas (Energy)                                      9638 non-null   object \n",
      " 26  Metered Areas  (Water)                                      5901 non-null   object \n",
      " 27  ENERGY STAR Score                                           9642 non-null   object \n",
      " 28  Site EUI (kBtu/ft²)                                         9642 non-null   object \n",
      " 29  Weather Normalized Site EUI (kBtu/ft²)                      8544 non-null   object \n",
      " 30  Weather Normalized Site Electricity Intensity (kWh/ft²)     9150 non-null   object \n",
      " 31  Weather Normalized Site Natural Gas Intensity (therms/ft²)  8229 non-null   object \n",
      " 32  Weather Normalized Source EUI (kBtu/ft²)                    8544 non-null   object \n",
      " 33  Fuel Oil #1 Use (kBtu)                                      9 non-null      object \n",
      " 34  Fuel Oil #2 Use (kBtu)                                      2156 non-null   object \n",
      " 35  Fuel Oil #4 Use (kBtu)                                      1098 non-null   object \n",
      " 36  Fuel Oil #5 & 6 Use (kBtu)                                  431 non-null    object \n",
      " 37  Diesel #2 Use (kBtu)                                        11 non-null     object \n",
      " 38  District Steam Use (kBtu)                                   758 non-null    object \n",
      " 39  Natural Gas Use (kBtu)                                      8640 non-null   object \n",
      " 40  Weather Normalized Site Natural Gas Use (therms)            8229 non-null   object \n",
      " 41  Electricity Use - Grid Purchase (kBtu)                      9565 non-null   object \n",
      " 42  Weather Normalized Site Electricity (kWh)                   9150 non-null   object \n",
      " 43  Total GHG Emissions (Metric Tons CO2e)                      9639 non-null   object \n",
      " 44  Direct GHG Emissions (Metric Tons CO2e)                     9629 non-null   object \n",
      " 45  Indirect GHG Emissions (Metric Tons CO2e)                   9633 non-null   object \n",
      " 46  Property GFA - Self-Reported (ft²)                          9642 non-null   int64  \n",
      " 47  Water Use (All Water Sources) (kgal)                        6528 non-null   object \n",
      " 48  Water Intensity (All Water Sources) (gal/ft²)               6528 non-null   object \n",
      " 49  Source EUI (kBtu/ft²)                                       9642 non-null   object \n",
      " 50  Release Date                                                9642 non-null   object \n",
      " 51  Water Required?                                             9561 non-null   object \n",
      " 52  DOF Benchmarking Submission Status                          9616 non-null   object \n",
      " 53  Latitude                                                    7788 non-null   float64\n",
      " 54  Longitude                                                   7788 non-null   float64\n",
      " 55  Community Board                                             7788 non-null   float64\n",
      " 56  Council District                                            7788 non-null   float64\n",
      " 57  Census Tract                                                7788 non-null   float64\n",
      " 58  NTA                                                         7788 non-null   object \n",
      "dtypes: float64(6), int64(5), object(48)\n",
      "memory usage: 4.3+ MB\n"
     ]
    }
   ],
   "source": [
    "df_energy = df_energy.replace(\"Not Available\",np.nan)\n",
    "df_energy.info()\n",
    "#Workable data info is below"
   ]
  },
  {
   "cell_type": "code",
   "execution_count": 7,
   "metadata": {},
   "outputs": [
    {
     "data": {
      "text/plain": [
       "Property Id                                                   100.000000\n",
       "Property GFA - Self-Reported (ft²)                            100.000000\n",
       "Year Built                                                    100.000000\n",
       "ENERGY STAR Score                                             100.000000\n",
       "Site EUI (kBtu/ft²)                                           100.000000\n",
       "Largest Property Use Type - Gross Floor Area (ft²)            100.000000\n",
       "Largest Property Use Type                                     100.000000\n",
       "List of All Property Use Types at Property                    100.000000\n",
       "Primary Property Type - Self Selected                         100.000000\n",
       "Postal Code                                                   100.000000\n",
       "Address 1 (self-reported)                                     100.000000\n",
       "Number of Buildings - Self-reported                           100.000000\n",
       "Occupancy                                                     100.000000\n",
       "Release Date                                                  100.000000\n",
       "Property Name                                                 100.000000\n",
       "Parent Property Id                                            100.000000\n",
       "Source EUI (kBtu/ft²)                                         100.000000\n",
       "Parent Property Name                                          100.000000\n",
       "NYC Borough, Block and Lot (BBL) self-reported                 99.979257\n",
       "BBL - 10 digits                                                99.979257\n",
       "Total GHG Emissions (Metric Tons CO2e)                         99.968886\n",
       "Metered Areas (Energy)                                         99.958515\n",
       "Indirect GHG Emissions (Metric Tons CO2e)                      99.906658\n",
       "Direct GHG Emissions (Metric Tons CO2e)                        99.865173\n",
       "DOF Benchmarking Submission Status                             99.730346\n",
       "DOF Gross Floor Area                                           99.346609\n",
       "Borough                                                        99.346609\n",
       "Street Name                                                    99.315495\n",
       "Street Number                                                  99.294752\n",
       "Electricity Use - Grid Purchase (kBtu)                         99.201410\n",
       "Water Required?                                                99.159925\n",
       "NYC Building Identification Number (BIN)                       98.630989\n",
       "Weather Normalized Site Electricity Intensity (kWh/ft²)        94.897324\n",
       "Weather Normalized Site Electricity (kWh)                      94.897324\n",
       "Natural Gas Use (kBtu)                                         89.607965\n",
       "Weather Normalized Site EUI (kBtu/ft²)                         88.612321\n",
       "Weather Normalized Source EUI (kBtu/ft²)                       88.612321\n",
       "Weather Normalized Site Natural Gas Use (therms)               85.345364\n",
       "Weather Normalized Site Natural Gas Intensity (therms/ft²)     85.345364\n",
       "NTA                                                            80.771624\n",
       "Council District                                               80.771624\n",
       "Community Board                                                80.771624\n",
       "Longitude                                                      80.771624\n",
       "Census Tract                                                   80.771624\n",
       "Latitude                                                       80.771624\n",
       "Water Intensity (All Water Sources) (gal/ft²)                  67.703796\n",
       "Water Use (All Water Sources) (kgal)                           67.703796\n",
       "Metered Areas  (Water)                                         61.200996\n",
       "2nd Largest Property Use Type                                  24.673304\n",
       "2nd Largest Property Use - Gross Floor Area (ft²)              24.673304\n",
       "Fuel Oil #2 Use (kBtu)                                         22.360506\n",
       "Fuel Oil #4 Use (kBtu)                                         11.387679\n",
       "3rd Largest Property Use Type - Gross Floor Area (ft²)          8.027380\n",
       "3rd Largest Property Use Type                                   8.027380\n",
       "District Steam Use (kBtu)                                       7.861440\n",
       "Fuel Oil #5 & 6 Use (kBtu)                                      4.470027\n",
       "Address 2                                                       1.586808\n",
       "Diesel #2 Use (kBtu)                                            0.114084\n",
       "Fuel Oil #1 Use (kBtu)                                          0.093342\n",
       "dtype: float64"
      ]
     },
     "execution_count": 7,
     "metadata": {},
     "output_type": "execute_result"
    }
   ],
   "source": [
    "#Here i am finding out the percentage not null data percentage in desending order\n",
    "missing_data_perc = dict()\n",
    "for i in df_energy.columns:\n",
    "    missing_data_perc[i] = len(df_energy[~df_energy[i].isnull()])/len(df_energy)\n",
    "    \n",
    "missing_data_perc = pd.Series(missing_data_perc) * 100\n",
    "missing_data_perc.sort_values(ascending=False) "
   ]
  },
  {
   "cell_type": "code",
   "execution_count": 8,
   "metadata": {},
   "outputs": [],
   "source": [
    "#identifying columns with less than 40% missing values or 60% not null values\n",
    "missing_data_perc_filter_40_perc_missing = missing_data_perc[missing_data_perc.sort_values(ascending=False) > 60]\n",
    "\n"
   ]
  },
  {
   "cell_type": "code",
   "execution_count": 9,
   "metadata": {},
   "outputs": [
    {
     "data": {
      "text/plain": [
       "['Property Id',\n",
       " 'Property Name',\n",
       " 'Parent Property Id',\n",
       " 'Parent Property Name',\n",
       " 'BBL - 10 digits',\n",
       " 'NYC Borough, Block and Lot (BBL) self-reported',\n",
       " 'NYC Building Identification Number (BIN)',\n",
       " 'Address 1 (self-reported)',\n",
       " 'Postal Code',\n",
       " 'Street Number',\n",
       " 'Street Name',\n",
       " 'Borough',\n",
       " 'DOF Gross Floor Area',\n",
       " 'Primary Property Type - Self Selected',\n",
       " 'List of All Property Use Types at Property',\n",
       " 'Largest Property Use Type',\n",
       " 'Largest Property Use Type - Gross Floor Area (ft²)',\n",
       " 'Year Built',\n",
       " 'Number of Buildings - Self-reported',\n",
       " 'Occupancy',\n",
       " 'Metered Areas (Energy)',\n",
       " 'Metered Areas  (Water)',\n",
       " 'ENERGY STAR Score',\n",
       " 'Site EUI (kBtu/ft²)',\n",
       " 'Weather Normalized Site EUI (kBtu/ft²)',\n",
       " 'Weather Normalized Site Electricity Intensity (kWh/ft²)',\n",
       " 'Weather Normalized Site Natural Gas Intensity (therms/ft²)',\n",
       " 'Weather Normalized Source EUI (kBtu/ft²)',\n",
       " 'Natural Gas Use (kBtu)',\n",
       " 'Weather Normalized Site Natural Gas Use (therms)',\n",
       " 'Electricity Use - Grid Purchase (kBtu)',\n",
       " 'Weather Normalized Site Electricity (kWh)',\n",
       " 'Total GHG Emissions (Metric Tons CO2e)',\n",
       " 'Direct GHG Emissions (Metric Tons CO2e)',\n",
       " 'Indirect GHG Emissions (Metric Tons CO2e)',\n",
       " 'Property GFA - Self-Reported (ft²)',\n",
       " 'Water Use (All Water Sources) (kgal)',\n",
       " 'Water Intensity (All Water Sources) (gal/ft²)',\n",
       " 'Source EUI (kBtu/ft²)',\n",
       " 'Release Date',\n",
       " 'Water Required?',\n",
       " 'DOF Benchmarking Submission Status',\n",
       " 'Latitude',\n",
       " 'Longitude',\n",
       " 'Community Board',\n",
       " 'Council District',\n",
       " 'Census Tract',\n",
       " 'NTA']"
      ]
     },
     "execution_count": 9,
     "metadata": {},
     "output_type": "execute_result"
    }
   ],
   "source": [
    "#List of columns which will be used ...rest will be dropped as they wont do any good either\n",
    "list(missing_data_perc_filter_40_perc_missing.index)"
   ]
  },
  {
   "cell_type": "code",
   "execution_count": 10,
   "metadata": {},
   "outputs": [],
   "source": [
    "#remove duplicate columns which are related to property loction as BBL-10 Digit is enough along with pincode to tell about the \n",
    "#locality\n",
    "duplicate_location_columns = ['Property Name',\n",
    "       'Parent Property Name','Street Number','Street Name',\n",
    "       'NYC Borough, Block and Lot (BBL) self-reported',\n",
    "       'NYC Building Identification Number (BIN)', 'Address 1 (self-reported)',\n",
    "       'Street Name', 'Borough','Latitude', 'Longitude',\n",
    "       'Community Board', 'Council District', 'Census Tract', 'NTA']"
   ]
  },
  {
   "cell_type": "code",
   "execution_count": 11,
   "metadata": {},
   "outputs": [],
   "source": [
    "#Carrying only relavant columns having more than 40 perc not null values\n",
    "df_energy = df_energy[list(missing_data_perc_filter_40_perc_missing.index)]"
   ]
  },
  {
   "cell_type": "code",
   "execution_count": 12,
   "metadata": {},
   "outputs": [],
   "source": [
    "df_energy = df_energy.drop(duplicate_location_columns,axis=1) #removing duplicate location columns as stated before"
   ]
  },
  {
   "cell_type": "code",
   "execution_count": 13,
   "metadata": {},
   "outputs": [],
   "source": [
    "# As per Data set, segregating  BBL code to 3 columns for NYC Borough, block and lot codes which along with\n",
    "#pin code will give info about building and locality\n",
    "\n",
    "df_energy[\"NYC Borough\"] = df_energy[\"BBL - 10 digits\"].apply(lambda x:str(x)[0:1])\n",
    "df_energy[\"NYC Block\"] = df_energy[\"BBL - 10 digits\"].apply(lambda x:str(x)[1:6])\n",
    "df_energy[\"NYC Lot\"] = df_energy[\"BBL - 10 digits\"].apply(lambda x:str(x)[6:10])"
   ]
  },
  {
   "cell_type": "code",
   "execution_count": 14,
   "metadata": {},
   "outputs": [],
   "source": [
    "#dropping BBL code as it is no longer necessary\n",
    "df_energy = df_energy.drop(['BBL - 10 digits','Release Date'],axis=1)"
   ]
  },
  {
   "cell_type": "code",
   "execution_count": 15,
   "metadata": {},
   "outputs": [],
   "source": [
    "#Reorganising Dataset\n",
    "df_energy = pd.concat([df_energy.drop('ENERGY STAR Score',axis=1),df_energy[\"ENERGY STAR Score\"]],axis=1)"
   ]
  },
  {
   "cell_type": "code",
   "execution_count": 16,
   "metadata": {},
   "outputs": [
    {
     "name": "stdout",
     "output_type": "stream",
     "text": [
      "<class 'pandas.core.frame.DataFrame'>\n",
      "RangeIndex: 9642 entries, 0 to 9641\n",
      "Data columns (total 35 columns):\n",
      " #   Column                                                      Non-Null Count  Dtype  \n",
      "---  ------                                                      --------------  -----  \n",
      " 0   Property Id                                                 9642 non-null   int64  \n",
      " 1   Parent Property Id                                          9642 non-null   object \n",
      " 2   Postal Code                                                 9642 non-null   object \n",
      " 3   DOF Gross Floor Area                                        9579 non-null   float64\n",
      " 4   Primary Property Type - Self Selected                       9642 non-null   object \n",
      " 5   List of All Property Use Types at Property                  9642 non-null   object \n",
      " 6   Largest Property Use Type                                   9642 non-null   object \n",
      " 7   Largest Property Use Type - Gross Floor Area (ft²)          9642 non-null   object \n",
      " 8   Year Built                                                  9642 non-null   int64  \n",
      " 9   Number of Buildings - Self-reported                         9642 non-null   int64  \n",
      " 10  Occupancy                                                   9642 non-null   int64  \n",
      " 11  Metered Areas (Energy)                                      9638 non-null   object \n",
      " 12  Metered Areas  (Water)                                      5901 non-null   object \n",
      " 13  Site EUI (kBtu/ft²)                                         9642 non-null   object \n",
      " 14  Weather Normalized Site EUI (kBtu/ft²)                      8544 non-null   object \n",
      " 15  Weather Normalized Site Electricity Intensity (kWh/ft²)     9150 non-null   object \n",
      " 16  Weather Normalized Site Natural Gas Intensity (therms/ft²)  8229 non-null   object \n",
      " 17  Weather Normalized Source EUI (kBtu/ft²)                    8544 non-null   object \n",
      " 18  Natural Gas Use (kBtu)                                      8640 non-null   object \n",
      " 19  Weather Normalized Site Natural Gas Use (therms)            8229 non-null   object \n",
      " 20  Electricity Use - Grid Purchase (kBtu)                      9565 non-null   object \n",
      " 21  Weather Normalized Site Electricity (kWh)                   9150 non-null   object \n",
      " 22  Total GHG Emissions (Metric Tons CO2e)                      9639 non-null   object \n",
      " 23  Direct GHG Emissions (Metric Tons CO2e)                     9629 non-null   object \n",
      " 24  Indirect GHG Emissions (Metric Tons CO2e)                   9633 non-null   object \n",
      " 25  Property GFA - Self-Reported (ft²)                          9642 non-null   int64  \n",
      " 26  Water Use (All Water Sources) (kgal)                        6528 non-null   object \n",
      " 27  Water Intensity (All Water Sources) (gal/ft²)               6528 non-null   object \n",
      " 28  Source EUI (kBtu/ft²)                                       9642 non-null   object \n",
      " 29  Water Required?                                             9561 non-null   object \n",
      " 30  DOF Benchmarking Submission Status                          9616 non-null   object \n",
      " 31  NYC Borough                                                 9642 non-null   object \n",
      " 32  NYC Block                                                   9642 non-null   object \n",
      " 33  NYC Lot                                                     9642 non-null   object \n",
      " 34  ENERGY STAR Score                                           9642 non-null   object \n",
      "dtypes: float64(1), int64(5), object(29)\n",
      "memory usage: 2.6+ MB\n"
     ]
    }
   ],
   "source": [
    "#Dataset info with columns to be used in regression \n",
    "df_energy.info()"
   ]
  },
  {
   "cell_type": "code",
   "execution_count": 17,
   "metadata": {},
   "outputs": [
    {
     "name": "stderr",
     "output_type": "stream",
     "text": [
      "<ipython-input-17-e02479c7125b>:4: SettingWithCopyWarning: \n",
      "A value is trying to be set on a copy of a slice from a DataFrame\n",
      "\n",
      "See the caveats in the documentation: https://pandas.pydata.org/pandas-docs/stable/user_guide/indexing.html#returning-a-view-versus-a-copy\n",
      "  df_energy[\"Parent Property Id\"][i] = df_energy[\"Property Id\"][i]\n"
     ]
    }
   ],
   "source": [
    "#Replacing standalone bulding parent property id with property id.\n",
    "for i in range(len(df_energy)):\n",
    "    if(df_energy[\"Parent Property Id\"][i] == \"Not Applicable: Standalone Property\"):\n",
    "        df_energy[\"Parent Property Id\"][i] = df_energy[\"Property Id\"][i]        "
   ]
  },
  {
   "cell_type": "code",
   "execution_count": 19,
   "metadata": {},
   "outputs": [],
   "source": [
    "#Organising Category columns under one list for ease\n",
    "cat_columns = ['Primary Property Type - Self Selected',\n",
    "       'List of All Property Use Types at Property',\n",
    "       'Largest Property Use Type','Metered Areas (Energy)','Water Required?','Metered Areas  (Water)',\n",
    "       'DOF Benchmarking Submission Status']"
   ]
  },
  {
   "cell_type": "code",
   "execution_count": 20,
   "metadata": {},
   "outputs": [],
   "source": [
    "#Transforming categories to numbers for regression\n",
    "from sklearn.preprocessing import LabelEncoder\n",
    "for col in cat_columns:\n",
    "    try:\n",
    "        df_energy[col] = LabelEncoder().fit_transform(df_energy[col])\n",
    "    except:\n",
    "        df_energy[col] = df_energy[col].fillna(value=\" \")\n",
    "        df_energy[col] = LabelEncoder().fit_transform(df_energy[col])                "
   ]
  },
  {
   "cell_type": "code",
   "execution_count": 21,
   "metadata": {},
   "outputs": [],
   "source": [
    "df_energy_fliter = df_energy"
   ]
  },
  {
   "cell_type": "markdown",
   "metadata": {},
   "source": [
    "# Data Cleaning "
   ]
  },
  {
   "cell_type": "code",
   "execution_count": 22,
   "metadata": {},
   "outputs": [
    {
     "name": "stderr",
     "output_type": "stream",
     "text": [
      "/home/kekarot/anaconda3/lib/python3.8/site-packages/pandas/core/ops/array_ops.py:253: FutureWarning: elementwise comparison failed; returning scalar instead, but in the future will perform elementwise comparison\n",
      "  res_values = method(rvalues)\n"
     ]
    }
   ],
   "source": [
    "#below code was used to find some junk values rows which were troubling.\n",
    "#df_energy_fliter[df_energy_fliter.eq('\\u200b').any(1)].T\n",
    "df_energy_fliter = df_energy_fliter.drop([95,190,9630,9631],axis=0).reset_index().drop('index',axis=1)"
   ]
  },
  {
   "cell_type": "code",
   "execution_count": 23,
   "metadata": {},
   "outputs": [],
   "source": [
    "#Cleaning Postal code as some junk or multiple values were there after 6 character in some rows\n",
    "df_energy_fliter[\"Postal Code\"] = df_energy_fliter[\"Postal Code\"].apply(lambda x:str(x)[:5]) "
   ]
  },
  {
   "cell_type": "code",
   "execution_count": 24,
   "metadata": {},
   "outputs": [],
   "source": [
    "#replacing null values with zeroes for row for integer type columns for now\n",
    "df_energy_fliter = df_energy_fliter.replace(np.nan,0)"
   ]
  },
  {
   "cell_type": "code",
   "execution_count": 25,
   "metadata": {},
   "outputs": [],
   "source": [
    "df_energy_fliter = df_energy_fliter.astype(float)"
   ]
  },
  {
   "cell_type": "markdown",
   "metadata": {},
   "source": [
    "# Replacing mean values by property use type in Water resource variables\n",
    "# As missing values were around 40 perc"
   ]
  },
  {
   "cell_type": "code",
   "execution_count": 26,
   "metadata": {},
   "outputs": [],
   "source": [
    "for i in range(len(df_energy_fliter)):\n",
    "    if((df_energy_fliter['Water Intensity (All Water Sources) (gal/ft²)'][i] == 0)\n",
    "       or (df_energy_fliter['Water Intensity (All Water Sources) (gal/ft²)'][i] == 0)):\n",
    "        \n",
    "        cat_no = df_energy_fliter[\"Largest Property Use Type\"][i]\n",
    "        \n",
    "        df_energy_fliter['Water Intensity (All Water Sources) (gal/ft²)'][i] = df_energy_fliter[df_energy_fliter[\"Largest Property Use Type\"] == cat_no]['Water Intensity (All Water Sources) (gal/ft²)'].mean() \n",
    "        \n",
    "        df_energy_fliter['Water Use (All Water Sources) (kgal)'][i] = df_energy_fliter[df_energy_fliter[\"Largest Property Use Type\"] == cat_no]['Water Use (All Water Sources) (kgal)'].mean() \n",
    "        \n",
    "        "
   ]
  },
  {
   "cell_type": "markdown",
   "metadata": {},
   "source": [
    "# Keeping a parallel dataset for non correlated variables for reference below"
   ]
  },
  {
   "cell_type": "code",
   "execution_count": 27,
   "metadata": {},
   "outputs": [],
   "source": [
    "corr_matrix = df_energy_fliter.corr().abs()\n",
    "\n",
    "# Select upper triangle of correlation matrix\n",
    "upper = corr_matrix.where(np.triu(np.ones(corr_matrix.shape), k=1).astype(np.bool))\n",
    "\n",
    "# Find index of feature columns with correlation greater than 0.95\n",
    "to_drop = [column for column in upper.columns if any(upper[column] > 0.90)]\n",
    "# Drop features \n",
    "df_energy_fliter_non_corr =df_energy_fliter.drop(df_energy_fliter[to_drop], axis=1)"
   ]
  },
  {
   "cell_type": "markdown",
   "metadata": {},
   "source": [
    "# Dataset summary to help with model and variable selection"
   ]
  },
  {
   "cell_type": "markdown",
   "metadata": {},
   "source": [
    "#Observations for below(statsmodels.api)\n",
    "\n",
    "1) Adjusted R-Sq of 0.812 using OLS shows that data has linearity \n",
    "\n",
    "2) kurtosis is on higher side ~2.29 shows that up side variance in target variable is there, also distribution is skewed. \n",
    "\n",
    "3) Also, high corelation is there among variables\n",
    "\n",
    "4) Summary of df_energy_fliter_non_corr(hasnt been shown here) is almost same with Adjusted R-Sq of 0.802.\n",
    "\n",
    "Conclusion:\n",
    "\n",
    "1) Since dataset has linearity, along with minor skweness and kurtosis. Its best to use tree based algorithm with squarederror or linear as loss function.\n",
    "\n",
    "2) Also tree based algorithms such as Decision trees, XG boost(XGBRegressor), GradientBoostingRegressor & XtraTreeRegressor are good at taking care of auto-correlation among variables on its own. Hence, It will save my time which will go in implementing cholesky decomposition or lower or upper triangular matrix or choosing variables manually by below p-values.\n",
    "\n",
    "3) I will be using XG boost(XGBRegressor) as it is easier to optimize,tune and takes less time in training and creating a model file compared to others.\n"
   ]
  },
  {
   "cell_type": "code",
   "execution_count": 28,
   "metadata": {},
   "outputs": [
    {
     "name": "stdout",
     "output_type": "stream",
     "text": [
      "                                      Results: Ordinary least squares\n",
      "============================================================================================================\n",
      "Model:                           OLS                        Adj. R-squared (uncentered):          0.812     \n",
      "Dependent Variable:              ENERGY STAR Score          AIC:                                  92302.3797\n",
      "Date:                            2020-07-26 21:44           BIC:                                  92546.2777\n",
      "No. Observations:                9638                       Log-Likelihood:                       -46117.   \n",
      "Df Model:                        34                         F-statistic:                          1227.     \n",
      "Df Residuals:                    9604                       Prob (F-statistic):                   0.00      \n",
      "R-squared (uncentered):          0.813                      Scale:                                841.78    \n",
      "------------------------------------------------------------------------------------------------------------\n",
      "                                                            Coef.  Std.Err.    t     P>|t|   [0.025   0.975]\n",
      "------------------------------------------------------------------------------------------------------------\n",
      "Property Id                                                -0.0000   0.0000  -3.6595 0.0003  -0.0000 -0.0000\n",
      "Parent Property Id                                          0.0000   0.0000   3.2357 0.0012   0.0000  0.0000\n",
      "Postal Code                                                 0.0048   0.0009   5.2692 0.0000   0.0030  0.0066\n",
      "DOF Gross Floor Area                                        0.0000   0.0000   0.2580 0.7964  -0.0000  0.0000\n",
      "Primary Property Type - Self Selected                       0.3935   0.4580   0.8592 0.3902  -0.5042  1.2913\n",
      "List of All Property Use Types at Property                  0.0004   0.0055   0.0791 0.9370  -0.0103  0.0112\n",
      "Largest Property Use Type                                   1.2514   0.6257   2.0000 0.0455   0.0249  2.4779\n",
      "Largest Property Use Type - Gross Floor Area (ft²)          0.0000   0.0000   0.3639 0.7160  -0.0000  0.0000\n",
      "Year Built                                                 -0.0093   0.0065  -1.4319 0.1522  -0.0220  0.0034\n",
      "Number of Buildings - Self-reported                        -0.1386   0.0757  -1.8321 0.0670  -0.2869  0.0097\n",
      "Occupancy                                                  -0.0231   0.0528  -0.4376 0.6617  -0.1267  0.0804\n",
      "Metered Areas (Energy)                                     10.5094   4.7823   2.1976 0.0280   1.1351 19.8837\n",
      "Metered Areas  (Water)                                      0.4856   0.1262   3.8488 0.0001   0.2383  0.7329\n",
      "Site EUI (kBtu/ft²)                                         0.0038   0.0022   1.7289 0.0839  -0.0005  0.0082\n",
      "Weather Normalized Site EUI (kBtu/ft²)                     -0.1141   0.0254  -4.4936 0.0000  -0.1639 -0.0643\n",
      "Weather Normalized Site Electricity Intensity (kWh/ft²)    -0.5736   0.1346  -4.2604 0.0000  -0.8374 -0.3097\n",
      "Weather Normalized Site Natural Gas Intensity (therms/ft²)  2.0652   0.3301   6.2556 0.0000   1.4180  2.7123\n",
      "Weather Normalized Source EUI (kBtu/ft²)                    0.0957   0.0211   4.5433 0.0000   0.0544  0.1370\n",
      "Natural Gas Use (kBtu)                                      0.0000   0.0000   0.6998 0.4840  -0.0000  0.0000\n",
      "Weather Normalized Site Natural Gas Use (therms)            0.0000   0.0000   1.9880 0.0468   0.0000  0.0000\n",
      "Electricity Use - Grid Purchase (kBtu)                     -0.0000   0.0000  -1.0117 0.3117  -0.0000  0.0000\n",
      "Weather Normalized Site Electricity (kWh)                   0.0000   0.0000   0.4115 0.6807  -0.0000  0.0000\n",
      "Total GHG Emissions (Metric Tons CO2e)                      0.0656   0.0332   1.9744 0.0484   0.0005  0.1306\n",
      "Direct GHG Emissions (Metric Tons CO2e)                    -0.0734   0.0332  -2.2085 0.0272  -0.1385 -0.0082\n",
      "Indirect GHG Emissions (Metric Tons CO2e)                  -0.0656   0.0332  -1.9746 0.0483  -0.1306 -0.0005\n",
      "Property GFA - Self-Reported (ft²)                          0.0000   0.0000   0.6755 0.4993  -0.0000  0.0000\n",
      "Water Use (All Water Sources) (kgal)                       -0.0000   0.0000  -0.2016 0.8403  -0.0000  0.0000\n",
      "Water Intensity (All Water Sources) (gal/ft²)              -0.0007   0.0009  -0.8279 0.4077  -0.0024  0.0010\n",
      "Source EUI (kBtu/ft²)                                      -0.0048   0.0014  -3.3160 0.0009  -0.0076 -0.0020\n",
      "Water Required?                                             0.1627   0.6061   0.2684 0.7884  -1.0254  1.3507\n",
      "DOF Benchmarking Submission Status                         -1.6592   5.8922  -0.2816 0.7783 -13.2092  9.8908\n",
      "NYC Borough                                                -0.9757   0.4586  -2.1275 0.0334  -1.8747 -0.0767\n",
      "NYC Block                                                  -0.0003   0.0001  -1.9888 0.0468  -0.0005 -0.0000\n",
      "NYC Lot                                                    -0.0017   0.0001 -14.3160 0.0000  -0.0020 -0.0015\n",
      "------------------------------------------------------------------------------------------------------------\n",
      "Omnibus:                           723.801                   Durbin-Watson:                      1.803      \n",
      "Prob(Omnibus):                     0.000                     Jarque-Bera (JB):                   413.303    \n",
      "Skew:                              -0.364                    Prob(JB):                           0.000      \n",
      "Kurtosis:                          2.293                     Condition No.:                      10119325558\n",
      "============================================================================================================\n",
      "* The condition number is large (1e+10). This might indicate             strong multicollinearity or other\n",
      "numerical problems.\n"
     ]
    }
   ],
   "source": [
    "import statsmodels.api as sm\n",
    "\n",
    "model = sm.OLS(df_energy_fliter[\"ENERGY STAR Score\"],df_energy_fliter.drop(\"ENERGY STAR Score\",axis=1))\n",
    "result=model.fit()\n",
    "print(result.summary2())"
   ]
  },
  {
   "cell_type": "code",
   "execution_count": 46,
   "metadata": {},
   "outputs": [
    {
     "name": "stdout",
     "output_type": "stream",
     "text": [
      "XGBoost Performance on the train set: MAE = 6.0859\n",
      "XGBoost Performance on the train set: MSE = 73.8125\n",
      "XGBoost Performance on the test set: MAE = 8.3444\n",
      "XGBoost Performance on the test set: MSE = 136.4559\n"
     ]
    }
   ],
   "source": [
    "from sklearn.metrics import mean_absolute_error,mean_squared_error\n",
    "from sklearn.model_selection import train_test_split\n",
    "import xgboost as xgb\n",
    "from xgboost.sklearn import XGBRegressor\n",
    "from sklearn.model_selection import GridSearchCV \n",
    "\n",
    "\n",
    "X_train, X_test, y_train, y_test = train_test_split(df_energy_fliter.drop([\"ENERGY STAR Score\"]\n",
    "                                                                           ,axis=1),df_energy_fliter[\"ENERGY STAR Score\"] \n",
    "                                                                           ,test_size = 0.2)\n",
    "\n",
    "#X_train, X_test, y_train, y_test = train_test_split(df_energy_fliter_non_corr.drop([\"ENERGY STAR Score\"]\n",
    "#                                                    ,axis=1),df_energy_fliter_non_corr[\"ENERGY STAR Score\"], test_size = 0.3)\n",
    "\n",
    "\n",
    "gradient_boosted = XGBRegressor(base_score=0.5, booster='gbtree', colsample_bylevel=1,\n",
    "                               colsample_bynode=1, colsample_bytree=0.8, gamma=0, gpu_id=-1,\n",
    "                               importance_type='gain', interaction_constraints='',\n",
    "                               learning_rate=0.1, max_delta_step=0, max_depth=5,\n",
    "                               min_child_weight=5, monotone_constraints='()',\n",
    "                               n_estimators=200, n_jobs=4, nthread=4, num_parallel_tree=1,\n",
    "                               random_state=27, reg_alpha=0, reg_lambda=1, scale_pos_weight=1,\n",
    "                               seed=27, subsample=0.8, tree_method='exact', validate_parameters=1,\n",
    "                               verbosity=None)\n",
    "\n",
    "\n",
    "\n",
    "gradient_boosted.fit(X_train, y_train)\n",
    "predictions_train = gradient_boosted.predict(X_train)\n",
    "predictions = gradient_boosted.predict(X_test)\n",
    "\n",
    "mae_train = mean_absolute_error(y_train, predictions_train)\n",
    "mse_train = mean_squared_error(y_train, predictions_train)\n",
    "\n",
    "mae = mean_absolute_error(y_test, predictions)\n",
    "mse = mean_squared_error(y_test, predictions)\n",
    "\n",
    "print('XGBoost Performance on the train set: MAE = %0.4f' % mae_train)\n",
    "print('XGBoost Performance on the train set: MSE = %0.4f' % mse_train)\n",
    "\n",
    "print('XGBoost Performance on the test set: MAE = %0.4f' % mae)\n",
    "print('XGBoost Performance on the test set: MSE = %0.4f' % mse)"
   ]
  },
  {
   "cell_type": "markdown",
   "metadata": {},
   "source": [
    "#Test and train observations:\n",
    "\n",
    "1) Testing and training MAE is looing good. However, MSE is quite high in testing which suggests that there could be outliers or it could be due to fact that variance explained by the model is only 0.81(Adj R-sq).\n",
    "\n",
    "2) From Y_test and train description below,it is clear that MSE is high due to limited variance explained by model ie 0.81(Adj Rsquare). As Std dev , mean , quantile 0.25, 0.50 and 0.75 are almost same for both.\n",
    "\n",
    "3) Also, the regression score of by Grid Search below is also 0.8180465993093975 which came at the time of hyper-parameter tuning. \n",
    "\n",
    "4) Hence it can be concluded that by both OLS statistical model and Grid parameters that it's the optimum result which can be achieved from this dataset as per my understanding.\n",
    "\n",
    "#Final Results: Test MAE is dabbling between 7.9 - 8.8 for testing dataset between 20-30% of total usable datapoints that are around 9.6k out of total 11.7K.\n",
    "\n",
    "#Possible Enhancements:\n",
    "\n",
    "a) Better results can be achieved by replacing more missing values by mean values grouped by categories such as    building_use_type and others i have used. \n",
    "\n",
    "b) I belive variance explained by model can be pushed upto 0.85 if more time is spent on dataset."
   ]
  },
  {
   "cell_type": "code",
   "execution_count": 35,
   "metadata": {},
   "outputs": [
    {
     "data": {
      "text/plain": [
       "count    1928.000000\n",
       "mean       59.821058\n",
       "std        29.789011\n",
       "min         1.000000\n",
       "25%        37.000000\n",
       "50%        65.500000\n",
       "75%        85.000000\n",
       "max       100.000000\n",
       "Name: ENERGY STAR Score, dtype: float64"
      ]
     },
     "execution_count": 35,
     "metadata": {},
     "output_type": "execute_result"
    }
   ],
   "source": [
    "y_test.describe()"
   ]
  },
  {
   "cell_type": "code",
   "execution_count": 37,
   "metadata": {},
   "outputs": [
    {
     "data": {
      "text/plain": [
       "count    7710.000000\n",
       "mean       59.879637\n",
       "std        30.037716\n",
       "min         1.000000\n",
       "25%        37.000000\n",
       "50%        65.000000\n",
       "75%        85.000000\n",
       "max       100.000000\n",
       "Name: ENERGY STAR Score, dtype: float64"
      ]
     },
     "execution_count": 37,
     "metadata": {},
     "output_type": "execute_result"
    }
   ],
   "source": [
    "y_train.describe()"
   ]
  },
  {
   "cell_type": "code",
   "execution_count": 250,
   "metadata": {},
   "outputs": [
    {
     "name": "stderr",
     "output_type": "stream",
     "text": [
      "/home/kekarot/anaconda3/lib/python3.8/site-packages/sklearn/model_selection/_search.py:847: FutureWarning: The parameter 'iid' is deprecated in 0.22 and will be removed in 0.24.\n",
      "  warnings.warn(\n"
     ]
    },
    {
     "data": {
      "text/plain": [
       "({'max_depth': 5, 'min_child_weight': 5, 'n_estimators': 200},\n",
       " 0.8180465993093975)"
      ]
     },
     "execution_count": 250,
     "metadata": {},
     "output_type": "execute_result"
    }
   ],
   "source": [
    "param_test1 = {\n",
    " 'max_depth':range(3,10,2),\n",
    " 'min_child_weight':range(1,6,2),\n",
    " 'n_estimators':range(100,500,100)   \n",
    "}\n",
    "gsearch1 = GridSearchCV(estimator = XGBRegressor( learning_rate =0.1,\n",
    " gamma=0, subsample=0.8, colsample_bytree=0.8,\n",
    " nthread=4, scale_pos_weight=1, seed=27), \n",
    " param_grid = param_test1,n_jobs=4,iid=False, cv=5)\n",
    "\n",
    "gsearch1.fit(df_energy_fliter.drop([\"ENERGY STAR Score\"],axis=1),df_energy_fliter[\"ENERGY STAR Score\"])\n",
    "gsearch1.best_params_, gsearch1.best_score_"
   ]
  },
  {
   "cell_type": "markdown",
   "metadata": {},
   "source": [
    "gsearch1.best_estimator_:\n",
    "\n",
    "XGBRegressor(base_score=0.5, booster='gbtree', colsample_bylevel=1,\n",
    "             colsample_bynode=1, colsample_bytree=0.8, gamma=0, gpu_id=-1,\n",
    "             importance_type='gain', interaction_constraints='',\n",
    "             learning_rate=0.1, max_delta_step=0, max_depth=5,\n",
    "             min_child_weight=5, missing=nan, monotone_constraints='()',\n",
    "             n_estimators=200, n_jobs=4, nthread=4, num_parallel_tree=1,\n",
    "             random_state=27, reg_alpha=0, reg_lambda=1, scale_pos_weight=1,\n",
    "             seed=27, subsample=0.8, tree_method='exact', validate_parameters=1,\n",
    "             verbosity=None)"
   ]
  },
  {
   "cell_type": "code",
   "execution_count": 281,
   "metadata": {},
   "outputs": [],
   "source": [
    "df_output = pd.concat([pd.Series(y_test).reset_index().drop('index',axis=1),pd.Series(predictions).reset_index().drop('index',axis=1)],axis=1)"
   ]
  },
  {
   "cell_type": "code",
   "execution_count": 282,
   "metadata": {},
   "outputs": [],
   "source": [
    "df_output = df_output.rename({0:\"Predicted_Score\"},axis=1)"
   ]
  },
  {
   "cell_type": "code",
   "execution_count": 283,
   "metadata": {
    "scrolled": true
   },
   "outputs": [
    {
     "data": {
      "text/html": [
       "<div>\n",
       "<style scoped>\n",
       "    .dataframe tbody tr th:only-of-type {\n",
       "        vertical-align: middle;\n",
       "    }\n",
       "\n",
       "    .dataframe tbody tr th {\n",
       "        vertical-align: top;\n",
       "    }\n",
       "\n",
       "    .dataframe thead th {\n",
       "        text-align: right;\n",
       "    }\n",
       "</style>\n",
       "<table border=\"1\" class=\"dataframe\">\n",
       "  <thead>\n",
       "    <tr style=\"text-align: right;\">\n",
       "      <th></th>\n",
       "      <th>ENERGY STAR Score</th>\n",
       "      <th>Predicted_Score</th>\n",
       "    </tr>\n",
       "  </thead>\n",
       "  <tbody>\n",
       "    <tr>\n",
       "      <th>0</th>\n",
       "      <td>81.0</td>\n",
       "      <td>74.125252</td>\n",
       "    </tr>\n",
       "    <tr>\n",
       "      <th>1</th>\n",
       "      <td>55.0</td>\n",
       "      <td>58.889820</td>\n",
       "    </tr>\n",
       "    <tr>\n",
       "      <th>2</th>\n",
       "      <td>36.0</td>\n",
       "      <td>51.447529</td>\n",
       "    </tr>\n",
       "    <tr>\n",
       "      <th>3</th>\n",
       "      <td>68.0</td>\n",
       "      <td>94.514458</td>\n",
       "    </tr>\n",
       "    <tr>\n",
       "      <th>4</th>\n",
       "      <td>97.0</td>\n",
       "      <td>95.798058</td>\n",
       "    </tr>\n",
       "    <tr>\n",
       "      <th>...</th>\n",
       "      <td>...</td>\n",
       "      <td>...</td>\n",
       "    </tr>\n",
       "    <tr>\n",
       "      <th>959</th>\n",
       "      <td>57.0</td>\n",
       "      <td>61.550503</td>\n",
       "    </tr>\n",
       "    <tr>\n",
       "      <th>960</th>\n",
       "      <td>55.0</td>\n",
       "      <td>51.570591</td>\n",
       "    </tr>\n",
       "    <tr>\n",
       "      <th>961</th>\n",
       "      <td>50.0</td>\n",
       "      <td>37.056435</td>\n",
       "    </tr>\n",
       "    <tr>\n",
       "      <th>962</th>\n",
       "      <td>78.0</td>\n",
       "      <td>74.052139</td>\n",
       "    </tr>\n",
       "    <tr>\n",
       "      <th>963</th>\n",
       "      <td>72.0</td>\n",
       "      <td>85.189720</td>\n",
       "    </tr>\n",
       "  </tbody>\n",
       "</table>\n",
       "<p>964 rows × 2 columns</p>\n",
       "</div>"
      ],
      "text/plain": [
       "     ENERGY STAR Score  Predicted_Score\n",
       "0                 81.0        74.125252\n",
       "1                 55.0        58.889820\n",
       "2                 36.0        51.447529\n",
       "3                 68.0        94.514458\n",
       "4                 97.0        95.798058\n",
       "..                 ...              ...\n",
       "959               57.0        61.550503\n",
       "960               55.0        51.570591\n",
       "961               50.0        37.056435\n",
       "962               78.0        74.052139\n",
       "963               72.0        85.189720\n",
       "\n",
       "[964 rows x 2 columns]"
      ]
     },
     "execution_count": 283,
     "metadata": {},
     "output_type": "execute_result"
    }
   ],
   "source": [
    "df_output"
   ]
  }
 ],
 "metadata": {
  "kernelspec": {
   "display_name": "Python 3",
   "language": "python",
   "name": "python3"
  },
  "language_info": {
   "codemirror_mode": {
    "name": "ipython",
    "version": 3
   },
   "file_extension": ".py",
   "mimetype": "text/x-python",
   "name": "python",
   "nbconvert_exporter": "python",
   "pygments_lexer": "ipython3",
   "version": "3.8.3"
  }
 },
 "nbformat": 4,
 "nbformat_minor": 4
}
